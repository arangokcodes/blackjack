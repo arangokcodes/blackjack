{
  "nbformat": 4,
  "nbformat_minor": 0,
  "metadata": {
    "colab": {
      "name": "Blackjack",
      "provenance": [],
      "collapsed_sections": [],
      "include_colab_link": true
    },
    "kernelspec": {
      "name": "python3",
      "display_name": "Python 3"
    },
    "language_info": {
      "name": "python"
    }
  },
  "cells": [
    {
      "cell_type": "markdown",
      "metadata": {
        "id": "view-in-github",
        "colab_type": "text"
      },
      "source": [
        "<a href=\"https://colab.research.google.com/github/arangokcodes/blackjack/blob/main/Blackjack.ipynb\" target=\"_parent\"><img src=\"https://colab.research.google.com/assets/colab-badge.svg\" alt=\"Open In Colab\"/></a>"
      ]
    },
    {
      "cell_type": "code",
      "metadata": {
        "id": "KuOdlFftKovt",
        "colab": {
          "base_uri": "https://localhost:8080/"
        },
        "outputId": "01cca123-ee74-4a47-9b43-039090d92c88"
      },
      "source": [
        "import random\n",
        " \n",
        "de_c_1 = random.randint(1, 13)\n",
        "de_c_2 = random.randint(1, 13)\n",
        " \n",
        "pl_c_1 = random.randint(1, 13)\n",
        "pl_c_2 = random.randint(1, 13)\n",
        " \n",
        " #If a number is 11, 12, 13 it means its K Q J\n",
        " #and return it to 10\n",
        "def royalConversion(cardnumber):\n",
        "  if cardnumber > 10:\n",
        "    cardnumber = 10\n",
        "    return cardnumber\n",
        "  else:\n",
        "    return cardnumber\n",
        "\n",
        "#Convert Ace from 11 to 1 if sum exceeds 21\n",
        "def aceHandler(sumOfCards, playercards):\n",
        "  for i in playercards:\n",
        "    if i == 11 and sumOfCards > 21:\n",
        "      playercards[playercards.index[i]] = 1\n",
        "      break\n",
        "    else:\n",
        "      pass\n",
        "    sumOfCards = sum(playercards)\n",
        "\n",
        "royalConversion(de_c_1)\n",
        "royalConversion(de_c_2)\n",
        "royalConversion(pl_c_1)\n",
        "royalConversion(pl_c_2)\n",
        " \n",
        "plCards = [pl_c_1, pl_c_2]\n",
        "dlCards = [de_c_1, de_c_2]\n",
        "\n",
        "sum_of_pl_c = sum(plCards)\n",
        "sum_of_de_c = sum(dlCards)\n",
        "\n",
        "aceHandler(sum_of_pl_c, plCards)\n",
        "aceHandler(sum_of_de_c, dlCards)\n",
        "\n",
        "print(sum_of_pl_c)\n",
        "print(sum_of_de_c)\n",
        " \n",
        "while sum_of_pl_c < 21:\n",
        "  \n",
        "  a = (input(\"Would you like to draw a card ? \"))\n",
        "  if a.lower() == \"y\":\n",
        "    hit_card = random.randint(1, 13)\n",
        "    royalConversion(hit_card)\n",
        "    print(str(hit_card))\n",
        "    plCards.append(hit_card)\n",
        "    tempsum = sum(plCards)\n",
        "    aceHandler(tempsum, plCards)\n",
        "    sum_of_pl_c = tempsum\n",
        "    print(sum_of_pl_c)\n",
        "  else:\n",
        "    break\n",
        " \n",
        " \n",
        "while sum_of_de_c < 17 and sum_of_de_c < sum_of_pl_c :\n",
        " \n",
        "  de_hit_card = random.randint(1, 13)\n",
        "  \n",
        "  royalConversion(de_hit_card)\n",
        "  if de_hit_card == 1:\n",
        "    if sum_of_de_c >= 11 :\n",
        "      sum_of_de_c = sum_of_de_c + de_hit_card\n",
        "    elif sum_of_de_c < 11 :\n",
        "      de_hit_card = 11\n",
        "      sum_of_de_c = sum_of_de_c + de_hit_card\n",
        " \n",
        "  else:    \n",
        "    sum_of_de_c = sum_of_de_c + de_hit_card\n",
        "  \n",
        "  print(\"Dealer hit card ---> \",de_hit_card)\n",
        "  print(\"Sum of dealer hand = \",sum_of_de_c)\n",
        " \n",
        "if sum_of_pl_c > 21:\n",
        "  print(\"You busted because \" , sum_of_pl_c , \" > 21\")\n",
        "elif sum_of_de_c > 21:\n",
        "  print(\"Dealer busted because \" , sum_of_de_c , \" > 21\")\n",
        "elif sum_of_de_c < sum_of_pl_c:\n",
        "  print(\"You Win because \" , sum_of_pl_c , \" > \" , sum_of_de_c)\n",
        "elif sum_of_pl_c < sum_of_de_c:\n",
        "  print(\"You Lost because \" , sum_of_de_c , \" > \" , sum_of_pl_c)\n",
        "else:\n",
        "  print(\"Draw \" , sum_of_de_c , \" = \" , sum_of_pl_c)"
      ],
      "execution_count": 21,
      "outputs": [
        {
          "output_type": "stream",
          "text": [
            "15\n",
            "20\n",
            "Would you like to draw a card ? y\n",
            "7\n",
            "22\n",
            "You busted because  22  > 21\n"
          ],
          "name": "stdout"
        }
      ]
    }
  ]
}