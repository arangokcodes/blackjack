{
  "nbformat": 4,
  "nbformat_minor": 2,
  "metadata": {
    "colab": {
      "name": "Blackjack",
      "provenance": [],
      "collapsed_sections": [],
      "include_colab_link": true
    },
    "kernelspec": {
      "name": "python3",
      "display_name": "Python 3.9.2 64-bit"
    },
    "language_info": {
      "name": "python",
      "version": "3.9.2",
      "mimetype": "text/x-python",
      "codemirror_mode": {
        "name": "ipython",
        "version": 3
      },
      "pygments_lexer": "ipython3",
      "nbconvert_exporter": "python",
      "file_extension": ".py"
    },
    "interpreter": {
      "hash": "a2ce6afab5e662a1f8e2f1560ec391cfee375ac1d90ac29a4cda9972096bb14b"
    }
  },
  "cells": [
    {
      "cell_type": "markdown",
      "source": [
        "<a href=\"https://colab.research.google.com/github/arangokcodes/blackjack/blob/main/Blackjack.ipynb\" target=\"_parent\"><img src=\"https://colab.research.google.com/assets/colab-badge.svg\" alt=\"Open In Colab\"/></a>"
      ],
      "metadata": {
        "id": "view-in-github",
        "colab_type": "text"
      }
    },
    {
      "cell_type": "code",
      "execution_count": 5,
      "source": [
        "import random\r\n",
        " \r\n",
        "de_c_1 = random.randint(1, 13)\r\n",
        "de_c_2 = random.randint(1, 13)\r\n",
        " \r\n",
        "pl_c_1 = random.randint(1, 13)\r\n",
        "pl_c_2 = random.randint(1, 13)\r\n",
        " \r\n",
        " #If a number is 11, 12, 13 it means its K Q J\r\n",
        " #and return it to 10\r\n",
        "def royalConversion(cardnumber):\r\n",
        "  if cardnumber > 10:\r\n",
        "    cardnumber = 10\r\n",
        "\r\n",
        "def calculateSum(playercards):\r\n",
        "  sum = 0\r\n",
        "  for i in playercards:\r\n",
        "    sum = sum + i\r\n",
        "  return sum\r\n",
        "\r\n",
        "#Convert Ace from 11 to 1 if sum exceeds 21\r\n",
        "def aceHandler(sumOfCards, playercards):\r\n",
        "  for i in playercards:\r\n",
        "    if i == 11 and sumOfCards > 21:\r\n",
        "      playercards[playercards.index[i]] = 1\r\n",
        "      break\r\n",
        "    else:\r\n",
        "      pass\r\n",
        "    sumOfCards = calculateSum(playercards)\r\n",
        "\r\n",
        "royalConversion(de_c_1)\r\n",
        "royalConversion(de_c_2)\r\n",
        "royalConversion(pl_c_1)\r\n",
        "royalConversion(pl_c_2)\r\n",
        " \r\n",
        "plCards = [pl_c_1, pl_c_2]\r\n",
        "dlCards = [de_c_1, de_c_2]\r\n",
        "\r\n",
        "sum_of_pl_c = calculateSum(plCards)\r\n",
        "sum_of_de_c = calculateSum(dlCards)\r\n",
        "\r\n",
        "aceHandler(sum_of_pl_c, plCards)\r\n",
        "aceHandler(sum_of_de_c, dlCards)\r\n",
        "\r\n",
        "print(sum_of_pl_c)\r\n",
        "print(sum_of_de_c)\r\n",
        " \r\n",
        "while sum_of_pl_c < 21:\r\n",
        "  \r\n",
        "  a = (input(\"Would you like to draw a card ? \"))\r\n",
        "  if a.lower() == \"y\":\r\n",
        "    hit_card = random.randint(1, 13)\r\n",
        "    print(str(hit_card))\r\n",
        "    royalConversion(hit_card)\r\n",
        "    plCards.append(hit_card)\r\n",
        "    tempsum = calculateSum(plCards)\r\n",
        "    aceHandler(tempsum, plCards)\r\n",
        "    sum_of_pl_c = tempsum\r\n",
        "    print(sum_of_pl_c)\r\n",
        "  else:\r\n",
        "    break\r\n",
        " \r\n",
        " \r\n",
        "while sum_of_de_c < 17 and sum_of_de_c < sum_of_pl_c :\r\n",
        " \r\n",
        "  de_hit_card = random.randint(1, 13)\r\n",
        "  \r\n",
        "  royalConversion(de_hit_card)\r\n",
        "  if de_hit_card == 1:\r\n",
        "    if sum_of_de_c >= 11 :\r\n",
        "      sum_of_de_c = sum_of_de_c + de_hit_card\r\n",
        "    elif sum_of_de_c < 11 :\r\n",
        "      de_hit_card = 11\r\n",
        "      sum_of_de_c = sum_of_de_c + de_hit_card\r\n",
        " \r\n",
        "  else:    \r\n",
        "    sum_of_de_c = sum_of_de_c + de_hit_card\r\n",
        "  \r\n",
        "  print(\"Dealer hit card ---> \",de_hit_card)\r\n",
        "  print(\"Sum of dealer hand = \",sum_of_de_c)\r\n",
        " \r\n",
        "if sum_of_pl_c > 21:\r\n",
        "  print(\"You busted because \" , sum_of_pl_c , \" > 21\")\r\n",
        "elif sum_of_de_c > 21:\r\n",
        "  print(\"Dealer busted because \" , sum_of_de_c , \" > 21\")\r\n",
        "elif sum_of_de_c < sum_of_pl_c:\r\n",
        "  print(\"You Win because \" , sum_of_pl_c , \" > \" , sum_of_de_c)\r\n",
        "elif sum_of_pl_c < sum_of_de_c:\r\n",
        "  print(\"You Lost because \" , sum_of_de_c , \" > \" , sum_of_pl_c)\r\n",
        "else:\r\n",
        "  print(\"Draw \" , sum_of_de_c , \" = \" , sum_of_pl_c)"
      ],
      "outputs": [
        {
          "output_type": "stream",
          "name": "stdout",
          "text": [
            "8\n",
            "24\n",
            "13\n",
            "21\n",
            "Dealer busted because  24  > 21\n"
          ]
        }
      ],
      "metadata": {
        "id": "KuOdlFftKovt"
      }
    },
    {
      "cell_type": "code",
      "execution_count": null,
      "source": [],
      "outputs": [],
      "metadata": {}
    }
  ]
}